{
 "cells": [
  {
   "cell_type": "code",
   "execution_count": 1,
   "metadata": {},
   "outputs": [],
   "source": [
    "import pandas as pd\n",
    "import numpy as np"
   ]
  },
  {
   "cell_type": "code",
   "execution_count": 4,
   "metadata": {},
   "outputs": [
    {
     "data": {
      "text/html": [
       "<div>\n",
       "<style scoped>\n",
       "    .dataframe tbody tr th:only-of-type {\n",
       "        vertical-align: middle;\n",
       "    }\n",
       "\n",
       "    .dataframe tbody tr th {\n",
       "        vertical-align: top;\n",
       "    }\n",
       "\n",
       "    .dataframe thead th {\n",
       "        text-align: right;\n",
       "    }\n",
       "</style>\n",
       "<table border=\"1\" class=\"dataframe\">\n",
       "  <thead>\n",
       "    <tr style=\"text-align: right;\">\n",
       "      <th></th>\n",
       "      <th>STATE/UT</th>\n",
       "      <th>DISTRICT</th>\n",
       "      <th>Year</th>\n",
       "      <th>Murder</th>\n",
       "      <th>Assault on women</th>\n",
       "      <th>Kidnapping and Abduction</th>\n",
       "      <th>Dacoity</th>\n",
       "      <th>Robbery</th>\n",
       "      <th>Arson</th>\n",
       "      <th>Hurt</th>\n",
       "      <th>Prevention of atrocities (POA) Act</th>\n",
       "      <th>Protection of Civil Rights (PCR) Act</th>\n",
       "      <th>Other Crimes Against SCs</th>\n",
       "    </tr>\n",
       "  </thead>\n",
       "  <tbody>\n",
       "    <tr>\n",
       "      <th>0</th>\n",
       "      <td>ANDHRA PRADESH</td>\n",
       "      <td>ADILABAD</td>\n",
       "      <td>2001</td>\n",
       "      <td>0</td>\n",
       "      <td>1</td>\n",
       "      <td>4</td>\n",
       "      <td>0</td>\n",
       "      <td>0</td>\n",
       "      <td>0</td>\n",
       "      <td>3</td>\n",
       "      <td>0</td>\n",
       "      <td>15</td>\n",
       "      <td>32</td>\n",
       "    </tr>\n",
       "    <tr>\n",
       "      <th>1</th>\n",
       "      <td>ANDHRA PRADESH</td>\n",
       "      <td>ANANTAPUR</td>\n",
       "      <td>2001</td>\n",
       "      <td>0</td>\n",
       "      <td>4</td>\n",
       "      <td>0</td>\n",
       "      <td>0</td>\n",
       "      <td>0</td>\n",
       "      <td>0</td>\n",
       "      <td>49</td>\n",
       "      <td>21</td>\n",
       "      <td>0</td>\n",
       "      <td>53</td>\n",
       "    </tr>\n",
       "    <tr>\n",
       "      <th>2</th>\n",
       "      <td>ANDHRA PRADESH</td>\n",
       "      <td>CHITTOOR</td>\n",
       "      <td>2001</td>\n",
       "      <td>3</td>\n",
       "      <td>3</td>\n",
       "      <td>0</td>\n",
       "      <td>0</td>\n",
       "      <td>0</td>\n",
       "      <td>0</td>\n",
       "      <td>38</td>\n",
       "      <td>36</td>\n",
       "      <td>0</td>\n",
       "      <td>34</td>\n",
       "    </tr>\n",
       "    <tr>\n",
       "      <th>3</th>\n",
       "      <td>ANDHRA PRADESH</td>\n",
       "      <td>CUDDAPAH</td>\n",
       "      <td>2001</td>\n",
       "      <td>0</td>\n",
       "      <td>3</td>\n",
       "      <td>0</td>\n",
       "      <td>0</td>\n",
       "      <td>0</td>\n",
       "      <td>0</td>\n",
       "      <td>20</td>\n",
       "      <td>52</td>\n",
       "      <td>0</td>\n",
       "      <td>25</td>\n",
       "    </tr>\n",
       "    <tr>\n",
       "      <th>4</th>\n",
       "      <td>ANDHRA PRADESH</td>\n",
       "      <td>EAST GODAVARI</td>\n",
       "      <td>2001</td>\n",
       "      <td>1</td>\n",
       "      <td>3</td>\n",
       "      <td>0</td>\n",
       "      <td>0</td>\n",
       "      <td>0</td>\n",
       "      <td>0</td>\n",
       "      <td>3</td>\n",
       "      <td>12</td>\n",
       "      <td>63</td>\n",
       "      <td>7</td>\n",
       "    </tr>\n",
       "  </tbody>\n",
       "</table>\n",
       "</div>"
      ],
      "text/plain": [
       "         STATE/UT       DISTRICT  Year  Murder  Assault on women  \\\n",
       "0  ANDHRA PRADESH       ADILABAD  2001       0                 1   \n",
       "1  ANDHRA PRADESH      ANANTAPUR  2001       0                 4   \n",
       "2  ANDHRA PRADESH       CHITTOOR  2001       3                 3   \n",
       "3  ANDHRA PRADESH       CUDDAPAH  2001       0                 3   \n",
       "4  ANDHRA PRADESH  EAST GODAVARI  2001       1                 3   \n",
       "\n",
       "   Kidnapping and Abduction  Dacoity  Robbery  Arson  Hurt  \\\n",
       "0                         4        0        0      0     3   \n",
       "1                         0        0        0      0    49   \n",
       "2                         0        0        0      0    38   \n",
       "3                         0        0        0      0    20   \n",
       "4                         0        0        0      0     3   \n",
       "\n",
       "   Prevention of atrocities (POA) Act  Protection of Civil Rights (PCR) Act  \\\n",
       "0                                   0                                    15   \n",
       "1                                  21                                     0   \n",
       "2                                  36                                     0   \n",
       "3                                  52                                     0   \n",
       "4                                  12                                    63   \n",
       "\n",
       "   Other Crimes Against SCs  \n",
       "0                        32  \n",
       "1                        53  \n",
       "2                        34  \n",
       "3                        25  \n",
       "4                         7  "
      ]
     },
     "execution_count": 4,
     "metadata": {},
     "output_type": "execute_result"
    }
   ],
   "source": [
    "data = pd.read_csv('data/crime_by_district.csv')\n",
    "data.head()"
   ]
  },
  {
   "cell_type": "code",
   "execution_count": 40,
   "metadata": {},
   "outputs": [],
   "source": [
    "data = data[data['DISTRICT'] != 'TOTAL']"
   ]
  },
  {
   "cell_type": "code",
   "execution_count": 41,
   "metadata": {},
   "outputs": [],
   "source": [
    "assault_by_district = data.groupby('DISTRICT')['Assault on women'].count().to_frame().reset_index().sort_values(by='Assault on women', ascending = False)"
   ]
  },
  {
   "cell_type": "code",
   "execution_count": 54,
   "metadata": {},
   "outputs": [],
   "source": [
    "lowest_crime_rate_districts = assault_by_district[assault_by_district['Assault on women'] == 1]['DISTRICT'].tolist()"
   ]
  },
  {
   "cell_type": "code",
   "execution_count": 58,
   "metadata": {},
   "outputs": [
    {
     "name": "stdout",
     "output_type": "stream",
     "text": [
      "District which has the most crime rates in India is: G.R.P.\n",
      "\n",
      "Districts which has the lowest crime rates in India are :\n",
      "['A and N ISLANDS', 'VILUPPURAM', 'AGAR', 'AMETHI', 'DISCOM', 'RAILWAYSKMR', 'AMROHA', 'I&P HARYANA', 'LONGDING', 'GUMALA', 'S.T.F.', 'C.B.KASHMIR', 'SAMBHAL', 'MAHENDERGARH', 'HAPUR', 'N.C. HILLS', 'SHAMLI', 'D&N HAVELI', 'GARO HILLS SOUTH W.', 'HISAR', 'GARO HILLS NORTH', 'KHASI HILLS SOUTH W.', 'G.R.P. AJMER', 'I.G.I.AIRPORT', 'RAILWAYS KMR', 'SPL NARCOTIC', 'METRO RAIL', 'NORTH WEST', 'NORTH EAST', 'MIDNAPUR', 'KASGANJ', 'JAINTIA HILLS EAST', 'JAINTIA HILLS WEST', 'G.R.P.(RLY)', 'TRAFFIC PS', 'G.R.P. JODHPUR', 'SOUTH WEST']\n"
     ]
    }
   ],
   "source": [
    "print('District which has the most crime rates in India is: G.R.P.\\n')\n",
    "print(f'Districts which has the lowest crime rates in India are :\\n{lowest_crime_rate_districts}')"
   ]
  },
  {
   "cell_type": "code",
   "execution_count": null,
   "metadata": {},
   "outputs": [],
   "source": []
  }
 ],
 "metadata": {
  "kernelspec": {
   "display_name": "Python 3.10.0 64-bit",
   "language": "python",
   "name": "python3"
  },
  "language_info": {
   "codemirror_mode": {
    "name": "ipython",
    "version": 3
   },
   "file_extension": ".py",
   "mimetype": "text/x-python",
   "name": "python",
   "nbconvert_exporter": "python",
   "pygments_lexer": "ipython3",
   "version": "3.10.0"
  },
  "orig_nbformat": 4,
  "vscode": {
   "interpreter": {
    "hash": "47c32f92d9eaa0f96702d1b8b199f816f3a7beccdfdfd2349412375d1dfe2cad"
   }
  }
 },
 "nbformat": 4,
 "nbformat_minor": 2
}
