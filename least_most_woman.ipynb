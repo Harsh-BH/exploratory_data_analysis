{
 "cells": [
  {
   "cell_type": "code",
   "execution_count": 77,
   "metadata": {},
   "outputs": [
    {
     "name": "stdout",
     "output_type": "stream",
     "text": [
      "(9841, 13)\n"
     ]
    }
   ],
   "source": [
    "import numpy as np\n",
    "import pandas as pd\n",
    "\n",
    "\n",
    "datafram = pd.read_csv('./data/crime_by_district.csv')\n",
    "print(datafram.shape)"
   ]
  },
  {
   "cell_type": "code",
   "execution_count": 78,
   "metadata": {},
   "outputs": [],
   "source": [
    "safe_district =(datafram[datafram['Assault on women']==np.min(datafram['Assault on women'])]['DISTRICT'])"
   ]
  },
  {
   "cell_type": "code",
   "execution_count": 79,
   "metadata": {},
   "outputs": [
    {
     "name": "stdout",
     "output_type": "stream",
     "text": [
      "Safe District For Womens Are ['GUNTAKAL RLY.' 'PRAKASHAM' 'SECUNDERABAD RLY.' 'VIJAYAWADA RLY.'\n",
      " 'VISAKHA RURAL' 'VISAKHAPATNAM' 'CHANGLANG' 'DIBANG VALLEY' 'KAMENG EAST'\n",
      " 'KAMENG WEST' 'LOHIT' 'PAPUM PARE' 'SIANG EAST' 'SIANG UPPER'\n",
      " 'SIANG WEST' 'SUBANSIRI LOWER' 'SUBANSIRI UPPER' 'TAWANG' 'TIRAP' 'TOTAL'\n",
      " 'BARPETA' 'BONGAIGAON' 'C.I.D.' 'CACHAR' 'DARRANG' 'DHEMAJI' 'DHUBRI'\n",
      " 'DIBRUGARH' 'G.R.P.' 'GOALPARA' 'GOLAGHAT' 'GUWAHATI CITY' 'HAILAKANDI'\n",
      " 'JORHAT' 'KAMRUP' 'KARBI ANGLONG' 'KARIMGANJ' 'KOKRAJHAR' 'LAKHIMPUR'\n",
      " 'MORIGAON' 'N.C. HILLS' 'NAGAON' 'NALBARI' 'R.P.O.' 'SIBSAGAR' 'SONITPUR'\n",
      " 'TINSUKIA' 'ARWAL' 'AURANGABAD' 'BAGAHA' 'BANKA' 'BEGUSARAI' 'BHABHUA'\n",
      " 'BHAGALPUR' 'BHOJPUR' 'BUXAR' 'DARBHANGA' 'GAYA' 'GOPALGANJ'\n",
      " 'JAMALPUR RLY.' 'JAMUI' 'JEHANABAD' 'KATIHAR' 'KATIHAR RLY.' 'KHAGARIA'\n",
      " 'LAKHISARAI' 'MADHEPURA' 'MUZAFFARPUR' 'MUZAFFARPUR RLY.' 'NAUGACHIA'\n",
      " 'NAWADAH' 'PATNA' 'PATNA RLY.' 'SHEIKHPURA' 'SHEOHAR' 'SITAMARHI' 'SIWAN'\n",
      " 'SUPAUL' 'VAISHALI' 'BALRAMPUR' 'BIZAPUR' 'DANTEWARA' 'GRP RAIPUR'\n",
      " 'JASHPUR' 'RAJNANDGAON' 'NORTH GOA' 'SOUTH GOA' 'AHWA-DANG' 'AMRELI'\n",
      " 'ANAND' 'BHARUCH' 'DAHOD' 'GANDHINAGAR' 'JUNAGADH' 'KHEDA NORTH'\n",
      " 'MEHSANA' 'NARMADA' 'NAVSARI' 'PANCHMAHAL' 'PORBANDAR' 'RAJKOT COMMR.'\n",
      " 'SURAT RURAL' 'SURENDRANAGAR' 'VADODARA COMMR.' 'VALSAD' 'W.RLY' 'AMBALA'\n",
      " 'BHIWANI' 'FARIDABAD' 'GRP' 'HISAR' 'JHAJJAR' 'KAITHAL' 'PANCHKULA'\n",
      " 'REWARI' 'YAMUNANAGAR' 'BILASPUR' 'CHAMBA' 'HAMIRPUR' 'LAHAUL-SPITI'\n",
      " 'SHIMLA' 'SIRMAUR' 'SOLAN' 'UNA' 'ANANTNAG' 'AWANTIPORA' 'BARAMULLA'\n",
      " 'BORDER' 'BUDGAM' 'CRIME JAMMU' 'CRIME SRINAGAR' 'DODA' 'GANDERBAL'\n",
      " 'JAMMU' 'KARGIL' 'KATHUA' 'KULGAM' 'KUPWARA' 'LEH' 'POONCH' 'PULWAMA'\n",
      " 'RAILWAYS' 'RAJOURI' 'RAMBAN' 'SRINAGAR' 'UDHAMPUR' 'BOKARO' 'CHAIBASA'\n",
      " 'DEOGHAR' 'DHANBAD' 'DHANBAD RLY.' 'GARHWA' 'GODDA' 'HAZARIBAGH'\n",
      " 'JAMSHEDPUR RLY.' 'JAMTARA' 'LATEHAR' 'LOHARDAGGA' 'PAKUR' 'PALAMU'\n",
      " 'SAHEBGANJ' 'SARAIKELA' 'SIMDEGA' 'BELGAUM' 'BELLARY' 'BIDAR'\n",
      " 'CHAMARAJNAGAR' 'DAKSHIN KANNADA' 'DHARWAD COMMR.' 'DHARWAD RURAL'\n",
      " 'GADAG' 'HASSAN' 'HAVERI' 'K.G.F.' 'KODAGU' 'KOPPAL' 'MANDYA'\n",
      " 'MYSORE COMMR.' 'MYSORE RURAL' 'UDUPI' 'UTTAR KANNADA' 'ALAPUZHA' 'CBCID'\n",
      " 'BARWANI' 'BHIND' 'BHOPAL RLY.' 'DAMOH' 'DEWAS' 'JABALPUR RLY.' 'JHABUA'\n",
      " 'KHARGON' 'RAISEN' 'UMARIYA' 'AKOLA' 'AURANGABAD COMMR.' 'BEED'\n",
      " 'BULDHANA' 'CHANDRAPUR' 'LATUR' 'MUMBAI' 'MUMBAI RLY.' 'NAGPUR RLY.'\n",
      " 'NANDURBAR' 'NASIK RURAL' 'OSMANABAD' 'PUNE RLY.' 'RATNAGIRI'\n",
      " 'SINDHUDURG' 'BISHNUPUR' 'CHANDEL' 'CHURACHANDPUR' 'IMPHAL(EAST)'\n",
      " 'IMPHAL(WEST)' 'SENAPATI' 'TAMENGLONG' 'THOUBAL' 'UKHRUL'\n",
      " 'GARO HILLS EAST' 'GARO HILLS SOUTH' 'GARO HILLS WEST' 'JAINTIA HILLS'\n",
      " 'KHASI HILLS EAST' 'KHASI HILLS WEST' 'RI-BHOI' 'AIZAWL' 'CHAMPHAI'\n",
      " 'KOLASIB' 'LAWNGTLAI' 'LUNGLEI' 'MAMIT' 'SAIHA' 'SERCHHIP' 'DIMAPUR'\n",
      " 'KIPHIRE' 'KOHIMA' 'MOKOKCHUNG' 'MON' 'PEREN' 'PHEK' 'TUENSANG' 'WOKHA'\n",
      " 'ZUNHEBOTO' 'BARAGARH' 'BHADRAK' 'BOLANGIR' 'CUTTACK' 'GANJAM'\n",
      " 'JAGATSINGHPUR' 'NOWRANGPUR' 'NUAPADA' 'ROURKELA' 'SRP(CUTTACK)'\n",
      " 'SRP(ROURKELA)' 'BATALA' 'FARIDKOT' 'FATEHGARH SAHIB' 'FEROZEPUR' 'G.R.P'\n",
      " 'HOSHIARPUR' 'KAPURTHALA' 'KHANNA' 'MOGA' 'NAWAN SHAHR' 'PATIALA' 'ROPAR'\n",
      " 'SANGRUR' 'TARN TARAN' 'DUNGARPUR' 'RAJSAMAND' 'EAST' 'NORTH' 'SOUTH'\n",
      " 'WEST' 'ARIYALUR' 'CHENGAI' 'CHENNAI' 'CHENNAI RLY.' 'COIMBATORE URBAN'\n",
      " 'CUDDALORE' 'DHARMAPURI' 'DINDIGUL' 'KANCHIPURAM' 'KANYAKUMARI' 'KARUR'\n",
      " 'MADURAI URBAN' 'NAMAKKAL' 'NILGIRIS' 'PERAMBALUR' 'PUDUKOTTAI'\n",
      " 'SALEM RURAL' 'SALEM URBAN' 'THENI' 'THIRUNELVELI URBAN'\n",
      " 'THIRUVANNAMALAI' 'THOOTHUGUDI' 'TRICHY RLY.' 'TRICHY RURAL' 'VELLORE'\n",
      " 'VILLUPURAM' 'VIRUDHUNAGAR' 'DHALAI' 'DEORIA' 'ST.RAVIDASNAGAR' 'ALMORA'\n",
      " 'BAGESHWAR' 'CHAMOLI' 'CHAMPAWAT' 'DEHRADUN' 'NAINITAL' 'PAURI GARHWAL'\n",
      " 'PITHORAGARH' 'RUDRA PRAYAG' 'TEHRI GARHWAL' 'UTTARKASHI'\n",
      " '24 PARGANAS NORTH' '24 PARGANAS SOUTH' 'ASANSOL' 'BIRBHUM' 'COOCHBEHAR'\n",
      " 'DAKSHIN DINAJPUR' 'DARJEELING' 'HOOGHLY' 'HOWRAH' 'HOWRAH CITY'\n",
      " 'HOWRAH G.R.P.' 'JALPAIGURI' 'KOLKATA' 'MIDNAPUR' 'MURSHIDABAD' 'NADIA'\n",
      " 'PURULIA' 'SEALDAH G.R.P.' 'SILIGURI G.R.P.' 'UTTAR DINAJPUR' 'ANDAMAN'\n",
      " 'NICOBAR' 'D and N HAVELI' 'DAMAN' 'DIU' 'CENTRAL' 'G.R.P.(RLY)'\n",
      " 'I.G.I.AIRPORT' 'NEW DELHI' 'NORTH EAST' 'NORTH WEST' 'S.T.F.'\n",
      " 'SOUTH WEST' 'LAKSHADWEEP' 'PONDICHERRY' 'N.C.HILLS' 'BETTIAH'\n",
      " 'KISHANGANJ' 'MADHUBANI' 'MUNGER' 'ROHTAS' 'SAHARSA' 'SARAN' 'KABIRDHAM'\n",
      " 'RAIGARH' 'AHMEDABAD COMMR.' 'AHMEDABAD RURAL' 'HIMATNAGAR' 'KUTCH'\n",
      " 'GURGAON' 'PANIPAT' 'SONIPAT' 'KINNAUR' 'HANDWARA' 'CHATRA' 'GUMLA'\n",
      " 'JAMSHEDPUR' 'KODERMA' 'BANGALORE COMMR.' 'BANGALORE RURAL' 'BIJAPUR'\n",
      " 'RAICHUR' 'SHIMOGA' 'TUMKUR' 'INDORE RLY.' 'AMRAVATI COMMR.' 'DHULE'\n",
      " 'GONDIA' 'JALNA' 'NANDED' 'PUNE COMMR.' 'RAIGAD' 'YAVATMAL' 'BERHAMPUR'\n",
      " 'BOUDH' 'DHENKANAL' 'GAJAPATI' 'JAJPUR' 'JHARSUGUDA' 'KENDRAPARA'\n",
      " 'KORAPUT' 'MALKANGIR' 'SAMBALPUR' 'SONEPUR' 'AMRITSAR' 'BARNALA'\n",
      " 'JALANDHAR' 'LUDHIANA' 'MAJITHA' 'MUKTSAR' 'BANSWARA' 'JAISALMER'\n",
      " 'JALORE' 'SIROHI' 'COIMBATORE RURAL' 'THIRUVARUR' 'TRICHY URBAN'\n",
      " 'GAUTAMBUDH NAGAR' 'SHRAWASTI' 'BANKURA' 'BURDWAN' 'KHARAGPUR G.R.P.'\n",
      " 'MALDA' 'PASCHIM MIDNAPUR' 'PURAB MIDNAPUR' 'CHANDIGARH' 'DRP'\n",
      " 'IGI AIRPORT' 'NORTH-EAST' 'NORTH-WEST' 'SOUTH-WEST' 'SPL CELL' 'STF'\n",
      " 'NIZAMABAD' 'RANGA REDDY' 'VIZIANAGARAM' 'K/KUMEY' 'UPPER DIBANG VALLEY'\n",
      " 'ARARIA' 'MOTIHARI' 'PURNEA' 'SAMASTIPUR' 'KORBA' 'SARGUJA' 'BHAVNAGAR'\n",
      " 'PATAN' 'SURAT COMMR.' 'VADODARA RURAL' 'HISSAR' 'MAHENDRAGARH' 'KANGRA'\n",
      " 'REASI' 'DUMKA' 'GIRIDIH' 'RANCHI' 'CHITRADURGA' 'DAVANAGERE' 'GULBARGA'\n",
      " 'KANNUR' 'KOZHIKODE COMMR.' 'PATHANAMTHITTA' 'THRISSUR' 'WAYANADU'\n",
      " 'ANUPPUR' 'NAGPUR COMMR.' 'NASIK COMMR.' 'SOLAPUR COMMR.' 'WASHIM'\n",
      " 'ANGUL' 'DEOGARH' 'KALAHANDI' 'NAYAGARH' 'RAYAGADA' 'SUNDARGARH' 'MANSA'\n",
      " 'BARMER' 'KARAULI' 'ERODE' 'RAMNATHAPURAM' 'SIVAGANGAI' 'THANJAVUR'\n",
      " 'THIRUVALLUR' 'BAGHPAT' 'BAHRAICH' 'BALLIA' 'FATEHGARH' 'GHAZIPUR'\n",
      " 'GONDA' 'MAHARAJGANJ' 'MAU' 'SANT KABIRNAGAR' 'SIDHARTHNAGAR' 'HARIDWAR'\n",
      " 'GRP(RLY)' 'CUDDAPAH' 'NALANDA' 'KANKER' 'NARAYANPUR' 'RAJKOT RURAL'\n",
      " 'JIND' 'KURUKSHETRA' 'KULLU' 'CHICKMAGALUR' 'TRIVANDRUM COMMR.'\n",
      " 'BURHANPUR' 'KHANDWA' 'AURANGABAD RURAL' 'HINGOLI' 'KOLHAPUR' 'SATARA'\n",
      " 'THANE RURAL' 'WARDHA' 'BALASORE' 'FEROZPUR' 'JAGRAON' 'DAUSA' 'TONK'\n",
      " 'UDAIPUR' 'KRISHNAGIRI' 'NAGAPATTINAM' 'AURAIYA' 'BASTI' 'JALAUN'\n",
      " 'KANNAUJ' 'LALITPUR' 'MIRZAPUR' 'VARANASI' 'UDHAMSINGH NAGAR' 'ANANTAPUR'\n",
      " 'HYDERABAD CITY' 'SRIKAKULAM' 'BASKA' 'CHIRANG' 'UDALGURI' 'JAMNAGAR'\n",
      " 'MEWAT' 'SIRSA' 'KOLAR' 'ERNAKULAM RURAL' 'MALAPPURAM' 'SHAHDOL'\n",
      " 'THANE COMMR.' 'KEONJHAR' 'KHURDA' 'GURDASPUR' 'CHANDOLI' 'FAIZABAD'\n",
      " 'JHANSI' 'KRISHNA' 'SURAJPUR' 'PALWAL' 'MANDI' 'BORDER DISTRICT'\n",
      " 'DINDORI' 'HARDA' 'MANDLA' 'GADCHIROLI' 'MUMBAI COMMR.' 'NAVI MUMBAI'\n",
      " 'IMPHAL EAST' 'IMPHAL WEST' 'PURI' 'BHATINDA' 'SAS NGR' 'MADURAI RURAL'\n",
      " 'MAHOBA' 'KARAIKAL' 'ROHTAK' 'KHUNTI' 'RAMGARH' 'BAGALKOT' 'PARBHANI'\n",
      " 'LONGLENG' 'AMRITSAR RURAL' 'JODHPUR CITY' 'A and N ISLANDS' 'OUTER'\n",
      " 'NELLORE' 'VIJAYAWADA CITY' 'DANTEWADA' 'TAPI' 'BANDIPORA' 'KISHTWAR'\n",
      " 'SAMBA' 'SHOPIAN' 'CBPURA' 'ERNAKULAM COMMR.' 'KASARGOD' 'ALIRAJPUR'\n",
      " 'CID' 'DCP BBSR' 'LUDHIANA RURAL' 'SBS NAGAR' 'PRATAPGARH' 'J.P.NAGAR'\n",
      " 'MAINPURI' 'SAHARANPUR' 'CAW' 'CRIME BRANCH' 'EOW' 'SOUTH-EAST'\n",
      " 'PUDUCHERRY' 'CYBERABAD' 'ANJAW' 'FATEHABAD' 'BADDIPOLICEDIST'\n",
      " 'RAILWAYS KMR' 'AHMEDNAGAR' 'JALGAON' 'SANGLI' 'KANDHAMAL' 'MAYURBHANJ'\n",
      " 'JAIPUR NORTH' 'JAIPUR SOUTH' 'CHENNAISUBURBAN' 'TIRUPPUR' 'BIJNOR'\n",
      " 'KANPUR DEHAT' 'KUSHI NAGAR' 'TIRUPATHI URBAN' 'RURAL' 'CID CRIME'\n",
      " 'C.B.KASHMIR' 'RAILWAYSKMR' 'SOPORE' 'RAMANAGAR' 'YADGIRI' 'DCP CTC'\n",
      " 'CP AMRITSAR' 'CP JALANDHAR' 'CP LUDHIANA' 'JALANDHAR RURAL'\n",
      " 'G.R.P. AJMER' 'G.R.P. JODHPUR' 'SAWAI MADHOPUR' 'ETAH' 'JAGDALPUR'\n",
      " 'MAHASAMUND' 'W.RLY AHMEDABAD' 'W.RLY VADODARA' 'RAILWAYS JAMMU'\n",
      " 'RAILWAYS KASHMIR' 'DHAR' 'FAZILKA' 'PATHANKOT' 'G.R.P.AJMER'\n",
      " 'G.R.P.JODHPUR' 'PRABUDDH NAGAR' 'BAKSA' 'BIEO' 'HAMREN' 'BEMETARA'\n",
      " 'DHAMTARI' 'KONDAGAON' 'SUKMA' 'KUTCH (WEST-BHUJ)' 'AMBALA RURAL'\n",
      " 'AMBALA URBAN' 'RAILWAYS KATRA' 'BUNDI' 'JODHPUR EAST' 'KHOWAI'\n",
      " 'SIPAHIJALA' 'UNAKOTI' 'ETAWAH' 'JAUNPUR' 'MATHURA' 'MUZAFFARNAGAR'\n",
      " 'BDN CP' 'BKP CP' 'JHARGRAM' 'SILIGURI_PC' 'CAR' 'RAJAHMUNDRY' 'LONGDING'\n",
      " 'BALOD' 'I&P HARYANA' 'GARO HILLS NORTH' 'GARO HILLS SOUTH W.'\n",
      " 'JAINTIA HILLS EAST' 'JAINTIA HILLS WEST' 'KHASI HILLS SOUTH W.'\n",
      " 'SPL NARCOTIC' 'TRAFFIC PS' 'DISCOM' 'D&N HAVELI' 'METRO RAIL']\n"
     ]
    }
   ],
   "source": [
    "print('Safe District For Womens Are', safe_district.unique())\n"
   ]
  },
  {
   "cell_type": "code",
   "execution_count": 80,
   "metadata": {},
   "outputs": [
    {
     "name": "stdout",
     "output_type": "stream",
     "text": [
      "(2,)\n"
     ]
    }
   ],
   "source": [
    "not_safe_district =(datafram[datafram['Assault on women']==np.max(datafram['Assault on women'])]['DISTRICT'])\n",
    "print(not_safe_district.shape)"
   ]
  },
  {
   "cell_type": "code",
   "execution_count": 81,
   "metadata": {},
   "outputs": [
    {
     "name": "stdout",
     "output_type": "stream",
     "text": [
      "Not Safe District For Womens Are ['TOTAL']\n"
     ]
    }
   ],
   "source": [
    "print('Not Safe District For Womens Are',not_safe_district.unique())"
   ]
  }
 ],
 "metadata": {
  "kernelspec": {
   "display_name": "Python 3.10.7 64-bit",
   "language": "python",
   "name": "python3"
  },
  "language_info": {
   "codemirror_mode": {
    "name": "ipython",
    "version": 3
   },
   "file_extension": ".py",
   "mimetype": "text/x-python",
   "name": "python",
   "nbconvert_exporter": "python",
   "pygments_lexer": "ipython3",
   "version": "3.10.7"
  },
  "orig_nbformat": 4,
  "vscode": {
   "interpreter": {
    "hash": "080da6c26f0a175bdb916ba142774bba8599a404fc80d6d1f14d481a78eeafad"
   }
  }
 },
 "nbformat": 4,
 "nbformat_minor": 2
}
