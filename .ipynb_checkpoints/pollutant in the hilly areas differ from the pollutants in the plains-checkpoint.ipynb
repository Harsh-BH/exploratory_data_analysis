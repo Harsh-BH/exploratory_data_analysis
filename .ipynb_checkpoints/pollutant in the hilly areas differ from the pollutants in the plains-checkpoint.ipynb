{
 "cells": [
  {
   "cell_type": "markdown",
   "id": "9150d3db",
   "metadata": {},
   "source": [
    "# How does pollutant in the hilly areas differ from the pollutants in the plains.\n",
    "### Make a list of states in the hills and the plains and then peoceed ., An increases analysis would be to take a state and distribute it into mountaneous and plain land"
   ]
  },
  {
   "cell_type": "code",
   "execution_count": 1,
   "id": "ada5f8ff",
   "metadata": {},
   "outputs": [],
   "source": [
    "import pandas as pd\n",
    "import numpy as np\n",
    "import matplotlib.pyplot as plt\n",
    "import seaborn as sns"
   ]
  },
  {
   "cell_type": "code",
   "execution_count": 2,
   "id": "537047a3",
   "metadata": {},
   "outputs": [
    {
     "data": {
      "text/html": [
       "<div>\n",
       "<style scoped>\n",
       "    .dataframe tbody tr th:only-of-type {\n",
       "        vertical-align: middle;\n",
       "    }\n",
       "\n",
       "    .dataframe tbody tr th {\n",
       "        vertical-align: top;\n",
       "    }\n",
       "\n",
       "    .dataframe thead th {\n",
       "        text-align: right;\n",
       "    }\n",
       "</style>\n",
       "<table border=\"1\" class=\"dataframe\">\n",
       "  <thead>\n",
       "    <tr style=\"text-align: right;\">\n",
       "      <th></th>\n",
       "      <th>id</th>\n",
       "      <th>country</th>\n",
       "      <th>state</th>\n",
       "      <th>city</th>\n",
       "      <th>station</th>\n",
       "      <th>pollutant_id</th>\n",
       "      <th>last_update</th>\n",
       "      <th>pollutant_min</th>\n",
       "      <th>pollutant_max</th>\n",
       "      <th>pollutant_avg</th>\n",
       "    </tr>\n",
       "  </thead>\n",
       "  <tbody>\n",
       "    <tr>\n",
       "      <th>0</th>\n",
       "      <td>1</td>\n",
       "      <td>India</td>\n",
       "      <td>Andhra_Pradesh</td>\n",
       "      <td>Amaravati</td>\n",
       "      <td>Secretariat, Amaravati - APPCB</td>\n",
       "      <td>PM2.5</td>\n",
       "      <td>21-10-2021 01:00:00</td>\n",
       "      <td>69.0</td>\n",
       "      <td>109.0</td>\n",
       "      <td>86.0</td>\n",
       "    </tr>\n",
       "    <tr>\n",
       "      <th>1</th>\n",
       "      <td>2</td>\n",
       "      <td>India</td>\n",
       "      <td>Andhra_Pradesh</td>\n",
       "      <td>Amaravati</td>\n",
       "      <td>Secretariat, Amaravati - APPCB</td>\n",
       "      <td>PM10</td>\n",
       "      <td>21-10-2021 01:00:00</td>\n",
       "      <td>82.0</td>\n",
       "      <td>138.0</td>\n",
       "      <td>105.0</td>\n",
       "    </tr>\n",
       "    <tr>\n",
       "      <th>2</th>\n",
       "      <td>3</td>\n",
       "      <td>India</td>\n",
       "      <td>Andhra_Pradesh</td>\n",
       "      <td>Amaravati</td>\n",
       "      <td>Secretariat, Amaravati - APPCB</td>\n",
       "      <td>NO2</td>\n",
       "      <td>21-10-2021 01:00:00</td>\n",
       "      <td>10.0</td>\n",
       "      <td>42.0</td>\n",
       "      <td>19.0</td>\n",
       "    </tr>\n",
       "    <tr>\n",
       "      <th>3</th>\n",
       "      <td>4</td>\n",
       "      <td>India</td>\n",
       "      <td>Andhra_Pradesh</td>\n",
       "      <td>Amaravati</td>\n",
       "      <td>Secretariat, Amaravati - APPCB</td>\n",
       "      <td>NH3</td>\n",
       "      <td>21-10-2021 01:00:00</td>\n",
       "      <td>4.0</td>\n",
       "      <td>5.0</td>\n",
       "      <td>4.0</td>\n",
       "    </tr>\n",
       "    <tr>\n",
       "      <th>4</th>\n",
       "      <td>5</td>\n",
       "      <td>India</td>\n",
       "      <td>Andhra_Pradesh</td>\n",
       "      <td>Amaravati</td>\n",
       "      <td>Secretariat, Amaravati - APPCB</td>\n",
       "      <td>SO2</td>\n",
       "      <td>21-10-2021 01:00:00</td>\n",
       "      <td>16.0</td>\n",
       "      <td>42.0</td>\n",
       "      <td>27.0</td>\n",
       "    </tr>\n",
       "    <tr>\n",
       "      <th>...</th>\n",
       "      <td>...</td>\n",
       "      <td>...</td>\n",
       "      <td>...</td>\n",
       "      <td>...</td>\n",
       "      <td>...</td>\n",
       "      <td>...</td>\n",
       "      <td>...</td>\n",
       "      <td>...</td>\n",
       "      <td>...</td>\n",
       "      <td>...</td>\n",
       "    </tr>\n",
       "    <tr>\n",
       "      <th>1831</th>\n",
       "      <td>1832</td>\n",
       "      <td>India</td>\n",
       "      <td>West_Bengal</td>\n",
       "      <td>Kolkata</td>\n",
       "      <td>Victoria, Kolkata - WBPCB</td>\n",
       "      <td>NO2</td>\n",
       "      <td>21-10-2021 01:00:00</td>\n",
       "      <td>10.0</td>\n",
       "      <td>22.0</td>\n",
       "      <td>15.0</td>\n",
       "    </tr>\n",
       "    <tr>\n",
       "      <th>1832</th>\n",
       "      <td>1833</td>\n",
       "      <td>India</td>\n",
       "      <td>West_Bengal</td>\n",
       "      <td>Kolkata</td>\n",
       "      <td>Victoria, Kolkata - WBPCB</td>\n",
       "      <td>NH3</td>\n",
       "      <td>21-10-2021 01:00:00</td>\n",
       "      <td>1.0</td>\n",
       "      <td>3.0</td>\n",
       "      <td>2.0</td>\n",
       "    </tr>\n",
       "    <tr>\n",
       "      <th>1833</th>\n",
       "      <td>1834</td>\n",
       "      <td>India</td>\n",
       "      <td>West_Bengal</td>\n",
       "      <td>Kolkata</td>\n",
       "      <td>Victoria, Kolkata - WBPCB</td>\n",
       "      <td>SO2</td>\n",
       "      <td>21-10-2021 01:00:00</td>\n",
       "      <td>6.0</td>\n",
       "      <td>28.0</td>\n",
       "      <td>10.0</td>\n",
       "    </tr>\n",
       "    <tr>\n",
       "      <th>1834</th>\n",
       "      <td>1835</td>\n",
       "      <td>India</td>\n",
       "      <td>West_Bengal</td>\n",
       "      <td>Kolkata</td>\n",
       "      <td>Victoria, Kolkata - WBPCB</td>\n",
       "      <td>CO</td>\n",
       "      <td>21-10-2021 01:00:00</td>\n",
       "      <td>34.0</td>\n",
       "      <td>92.0</td>\n",
       "      <td>41.0</td>\n",
       "    </tr>\n",
       "    <tr>\n",
       "      <th>1835</th>\n",
       "      <td>1836</td>\n",
       "      <td>India</td>\n",
       "      <td>West_Bengal</td>\n",
       "      <td>Kolkata</td>\n",
       "      <td>Victoria, Kolkata - WBPCB</td>\n",
       "      <td>OZONE</td>\n",
       "      <td>21-10-2021 01:00:00</td>\n",
       "      <td>10.0</td>\n",
       "      <td>116.0</td>\n",
       "      <td>43.0</td>\n",
       "    </tr>\n",
       "  </tbody>\n",
       "</table>\n",
       "<p>1836 rows × 10 columns</p>\n",
       "</div>"
      ],
      "text/plain": [
       "        id country           state       city                         station  \\\n",
       "0        1   India  Andhra_Pradesh  Amaravati  Secretariat, Amaravati - APPCB   \n",
       "1        2   India  Andhra_Pradesh  Amaravati  Secretariat, Amaravati - APPCB   \n",
       "2        3   India  Andhra_Pradesh  Amaravati  Secretariat, Amaravati - APPCB   \n",
       "3        4   India  Andhra_Pradesh  Amaravati  Secretariat, Amaravati - APPCB   \n",
       "4        5   India  Andhra_Pradesh  Amaravati  Secretariat, Amaravati - APPCB   \n",
       "...    ...     ...             ...        ...                             ...   \n",
       "1831  1832   India     West_Bengal    Kolkata       Victoria, Kolkata - WBPCB   \n",
       "1832  1833   India     West_Bengal    Kolkata       Victoria, Kolkata - WBPCB   \n",
       "1833  1834   India     West_Bengal    Kolkata       Victoria, Kolkata - WBPCB   \n",
       "1834  1835   India     West_Bengal    Kolkata       Victoria, Kolkata - WBPCB   \n",
       "1835  1836   India     West_Bengal    Kolkata       Victoria, Kolkata - WBPCB   \n",
       "\n",
       "     pollutant_id          last_update  pollutant_min  pollutant_max  \\\n",
       "0           PM2.5  21-10-2021 01:00:00           69.0          109.0   \n",
       "1            PM10  21-10-2021 01:00:00           82.0          138.0   \n",
       "2             NO2  21-10-2021 01:00:00           10.0           42.0   \n",
       "3             NH3  21-10-2021 01:00:00            4.0            5.0   \n",
       "4             SO2  21-10-2021 01:00:00           16.0           42.0   \n",
       "...           ...                  ...            ...            ...   \n",
       "1831          NO2  21-10-2021 01:00:00           10.0           22.0   \n",
       "1832          NH3  21-10-2021 01:00:00            1.0            3.0   \n",
       "1833          SO2  21-10-2021 01:00:00            6.0           28.0   \n",
       "1834           CO  21-10-2021 01:00:00           34.0           92.0   \n",
       "1835        OZONE  21-10-2021 01:00:00           10.0          116.0   \n",
       "\n",
       "      pollutant_avg  \n",
       "0              86.0  \n",
       "1             105.0  \n",
       "2              19.0  \n",
       "3               4.0  \n",
       "4              27.0  \n",
       "...             ...  \n",
       "1831           15.0  \n",
       "1832            2.0  \n",
       "1833           10.0  \n",
       "1834           41.0  \n",
       "1835           43.0  \n",
       "\n",
       "[1836 rows x 10 columns]"
      ]
     },
     "execution_count": 2,
     "metadata": {},
     "output_type": "execute_result"
    }
   ],
   "source": [
    "df=pd.read_csv(\"data\\Air_Quality.csv\").copy()\n",
    "df"
   ]
  },
  {
   "cell_type": "markdown",
   "id": "bb44a28d",
   "metadata": {},
   "source": [
    "## EDA"
   ]
  },
  {
   "cell_type": "code",
   "execution_count": 6,
   "id": "7693ca23",
   "metadata": {},
   "outputs": [
    {
     "data": {
      "text/plain": [
       "(1836, 10)"
      ]
     },
     "execution_count": 6,
     "metadata": {},
     "output_type": "execute_result"
    }
   ],
   "source": [
    "df.shape"
   ]
  },
  {
   "cell_type": "code",
   "execution_count": 7,
   "id": "e82b24aa",
   "metadata": {},
   "outputs": [
    {
     "data": {
      "text/plain": [
       "id                0\n",
       "country           0\n",
       "state             0\n",
       "city              0\n",
       "station           0\n",
       "pollutant_id      0\n",
       "last_update       0\n",
       "pollutant_min    98\n",
       "pollutant_max    98\n",
       "pollutant_avg    98\n",
       "dtype: int64"
      ]
     },
     "execution_count": 7,
     "metadata": {},
     "output_type": "execute_result"
    }
   ],
   "source": [
    "df.isnull().sum()"
   ]
  },
  {
   "cell_type": "code",
   "execution_count": 8,
   "id": "491a4507",
   "metadata": {},
   "outputs": [
    {
     "name": "stdout",
     "output_type": "stream",
     "text": [
      "<class 'pandas.core.frame.DataFrame'>\n",
      "RangeIndex: 1836 entries, 0 to 1835\n",
      "Data columns (total 10 columns):\n",
      " #   Column         Non-Null Count  Dtype  \n",
      "---  ------         --------------  -----  \n",
      " 0   id             1836 non-null   int64  \n",
      " 1   country        1836 non-null   object \n",
      " 2   state          1836 non-null   object \n",
      " 3   city           1836 non-null   object \n",
      " 4   station        1836 non-null   object \n",
      " 5   pollutant_id   1836 non-null   object \n",
      " 6   last_update    1836 non-null   object \n",
      " 7   pollutant_min  1738 non-null   float64\n",
      " 8   pollutant_max  1738 non-null   float64\n",
      " 9   pollutant_avg  1738 non-null   float64\n",
      "dtypes: float64(3), int64(1), object(6)\n",
      "memory usage: 143.6+ KB\n"
     ]
    }
   ],
   "source": [
    "df.info()"
   ]
  },
  {
   "cell_type": "code",
   "execution_count": 12,
   "id": "914046f0",
   "metadata": {},
   "outputs": [
    {
     "data": {
      "text/plain": [
       "array(['Andhra_Pradesh', 'Assam', 'Bihar', 'Chandigarh', 'Chhattisgarh',\n",
       "       'Delhi', 'Gujarat', 'Haryana', 'Jammu_&_Kashmir', 'Jharkhand',\n",
       "       'Karnataka', 'Kerala', 'Madhya Pradesh', 'Maharashtra',\n",
       "       'Meghalaya', 'Mizoram', 'Nagaland', 'Odisha', 'Puducherry',\n",
       "       'Punjab', 'Rajasthan', 'TamilNadu', 'Telangana', 'Tripura',\n",
       "       'Uttar_Pradesh', 'West_Bengal'], dtype=object)"
      ]
     },
     "execution_count": 12,
     "metadata": {},
     "output_type": "execute_result"
    }
   ],
   "source": [
    "df['state'].unique() # We have 26  states in the list"
   ]
  },
  {
   "cell_type": "code",
   "execution_count": 14,
   "id": "ed312898",
   "metadata": {},
   "outputs": [],
   "source": [
    "# First we have to make a list of hilly areas and plains\n",
    "# I am considering top 5 states with most no of hills based on Wikipedia\n",
    "hilly=['Jammu_&_Kashmir','Nagaland','West_Bengal','Meghalaya','Assam']"
   ]
  },
  {
   "cell_type": "code",
   "execution_count": 18,
   "id": "eb5b035d",
   "metadata": {},
   "outputs": [
    {
     "data": {
      "text/html": [
       "<div>\n",
       "<style scoped>\n",
       "    .dataframe tbody tr th:only-of-type {\n",
       "        vertical-align: middle;\n",
       "    }\n",
       "\n",
       "    .dataframe tbody tr th {\n",
       "        vertical-align: top;\n",
       "    }\n",
       "\n",
       "    .dataframe thead th {\n",
       "        text-align: right;\n",
       "    }\n",
       "</style>\n",
       "<table border=\"1\" class=\"dataframe\">\n",
       "  <thead>\n",
       "    <tr style=\"text-align: right;\">\n",
       "      <th></th>\n",
       "      <th>id</th>\n",
       "      <th>country</th>\n",
       "      <th>state</th>\n",
       "      <th>city</th>\n",
       "      <th>station</th>\n",
       "      <th>pollutant_id</th>\n",
       "      <th>last_update</th>\n",
       "      <th>pollutant_min</th>\n",
       "      <th>pollutant_max</th>\n",
       "      <th>pollutant_avg</th>\n",
       "    </tr>\n",
       "  </thead>\n",
       "  <tbody>\n",
       "    <tr>\n",
       "      <th>28</th>\n",
       "      <td>29</td>\n",
       "      <td>India</td>\n",
       "      <td>Assam</td>\n",
       "      <td>Guwahati</td>\n",
       "      <td>Pan Bazaar, Guwahati - APCB</td>\n",
       "      <td>PM2.5</td>\n",
       "      <td>21-10-2021 01:00:00</td>\n",
       "      <td>1.0</td>\n",
       "      <td>31.0</td>\n",
       "      <td>11.0</td>\n",
       "    </tr>\n",
       "    <tr>\n",
       "      <th>29</th>\n",
       "      <td>30</td>\n",
       "      <td>India</td>\n",
       "      <td>Assam</td>\n",
       "      <td>Guwahati</td>\n",
       "      <td>Pan Bazaar, Guwahati - APCB</td>\n",
       "      <td>NO2</td>\n",
       "      <td>21-10-2021 01:00:00</td>\n",
       "      <td>1.0</td>\n",
       "      <td>13.0</td>\n",
       "      <td>5.0</td>\n",
       "    </tr>\n",
       "    <tr>\n",
       "      <th>30</th>\n",
       "      <td>31</td>\n",
       "      <td>India</td>\n",
       "      <td>Assam</td>\n",
       "      <td>Guwahati</td>\n",
       "      <td>Pan Bazaar, Guwahati - APCB</td>\n",
       "      <td>NH3</td>\n",
       "      <td>21-10-2021 01:00:00</td>\n",
       "      <td>1.0</td>\n",
       "      <td>4.0</td>\n",
       "      <td>2.0</td>\n",
       "    </tr>\n",
       "    <tr>\n",
       "      <th>31</th>\n",
       "      <td>32</td>\n",
       "      <td>India</td>\n",
       "      <td>Assam</td>\n",
       "      <td>Guwahati</td>\n",
       "      <td>Pan Bazaar, Guwahati - APCB</td>\n",
       "      <td>SO2</td>\n",
       "      <td>21-10-2021 01:00:00</td>\n",
       "      <td>82.0</td>\n",
       "      <td>101.0</td>\n",
       "      <td>88.0</td>\n",
       "    </tr>\n",
       "    <tr>\n",
       "      <th>32</th>\n",
       "      <td>33</td>\n",
       "      <td>India</td>\n",
       "      <td>Assam</td>\n",
       "      <td>Guwahati</td>\n",
       "      <td>Pan Bazaar, Guwahati - APCB</td>\n",
       "      <td>CO</td>\n",
       "      <td>21-10-2021 01:00:00</td>\n",
       "      <td>1.0</td>\n",
       "      <td>28.0</td>\n",
       "      <td>7.0</td>\n",
       "    </tr>\n",
       "    <tr>\n",
       "      <th>...</th>\n",
       "      <td>...</td>\n",
       "      <td>...</td>\n",
       "      <td>...</td>\n",
       "      <td>...</td>\n",
       "      <td>...</td>\n",
       "      <td>...</td>\n",
       "      <td>...</td>\n",
       "      <td>...</td>\n",
       "      <td>...</td>\n",
       "      <td>...</td>\n",
       "    </tr>\n",
       "    <tr>\n",
       "      <th>1831</th>\n",
       "      <td>1832</td>\n",
       "      <td>India</td>\n",
       "      <td>West_Bengal</td>\n",
       "      <td>Kolkata</td>\n",
       "      <td>Victoria, Kolkata - WBPCB</td>\n",
       "      <td>NO2</td>\n",
       "      <td>21-10-2021 01:00:00</td>\n",
       "      <td>10.0</td>\n",
       "      <td>22.0</td>\n",
       "      <td>15.0</td>\n",
       "    </tr>\n",
       "    <tr>\n",
       "      <th>1832</th>\n",
       "      <td>1833</td>\n",
       "      <td>India</td>\n",
       "      <td>West_Bengal</td>\n",
       "      <td>Kolkata</td>\n",
       "      <td>Victoria, Kolkata - WBPCB</td>\n",
       "      <td>NH3</td>\n",
       "      <td>21-10-2021 01:00:00</td>\n",
       "      <td>1.0</td>\n",
       "      <td>3.0</td>\n",
       "      <td>2.0</td>\n",
       "    </tr>\n",
       "    <tr>\n",
       "      <th>1833</th>\n",
       "      <td>1834</td>\n",
       "      <td>India</td>\n",
       "      <td>West_Bengal</td>\n",
       "      <td>Kolkata</td>\n",
       "      <td>Victoria, Kolkata - WBPCB</td>\n",
       "      <td>SO2</td>\n",
       "      <td>21-10-2021 01:00:00</td>\n",
       "      <td>6.0</td>\n",
       "      <td>28.0</td>\n",
       "      <td>10.0</td>\n",
       "    </tr>\n",
       "    <tr>\n",
       "      <th>1834</th>\n",
       "      <td>1835</td>\n",
       "      <td>India</td>\n",
       "      <td>West_Bengal</td>\n",
       "      <td>Kolkata</td>\n",
       "      <td>Victoria, Kolkata - WBPCB</td>\n",
       "      <td>CO</td>\n",
       "      <td>21-10-2021 01:00:00</td>\n",
       "      <td>34.0</td>\n",
       "      <td>92.0</td>\n",
       "      <td>41.0</td>\n",
       "    </tr>\n",
       "    <tr>\n",
       "      <th>1835</th>\n",
       "      <td>1836</td>\n",
       "      <td>India</td>\n",
       "      <td>West_Bengal</td>\n",
       "      <td>Kolkata</td>\n",
       "      <td>Victoria, Kolkata - WBPCB</td>\n",
       "      <td>OZONE</td>\n",
       "      <td>21-10-2021 01:00:00</td>\n",
       "      <td>10.0</td>\n",
       "      <td>116.0</td>\n",
       "      <td>43.0</td>\n",
       "    </tr>\n",
       "  </tbody>\n",
       "</table>\n",
       "<p>121 rows × 10 columns</p>\n",
       "</div>"
      ],
      "text/plain": [
       "        id country        state      city                      station  \\\n",
       "28      29   India        Assam  Guwahati  Pan Bazaar, Guwahati - APCB   \n",
       "29      30   India        Assam  Guwahati  Pan Bazaar, Guwahati - APCB   \n",
       "30      31   India        Assam  Guwahati  Pan Bazaar, Guwahati - APCB   \n",
       "31      32   India        Assam  Guwahati  Pan Bazaar, Guwahati - APCB   \n",
       "32      33   India        Assam  Guwahati  Pan Bazaar, Guwahati - APCB   \n",
       "...    ...     ...          ...       ...                          ...   \n",
       "1831  1832   India  West_Bengal   Kolkata    Victoria, Kolkata - WBPCB   \n",
       "1832  1833   India  West_Bengal   Kolkata    Victoria, Kolkata - WBPCB   \n",
       "1833  1834   India  West_Bengal   Kolkata    Victoria, Kolkata - WBPCB   \n",
       "1834  1835   India  West_Bengal   Kolkata    Victoria, Kolkata - WBPCB   \n",
       "1835  1836   India  West_Bengal   Kolkata    Victoria, Kolkata - WBPCB   \n",
       "\n",
       "     pollutant_id          last_update  pollutant_min  pollutant_max  \\\n",
       "28          PM2.5  21-10-2021 01:00:00            1.0           31.0   \n",
       "29            NO2  21-10-2021 01:00:00            1.0           13.0   \n",
       "30            NH3  21-10-2021 01:00:00            1.0            4.0   \n",
       "31            SO2  21-10-2021 01:00:00           82.0          101.0   \n",
       "32             CO  21-10-2021 01:00:00            1.0           28.0   \n",
       "...           ...                  ...            ...            ...   \n",
       "1831          NO2  21-10-2021 01:00:00           10.0           22.0   \n",
       "1832          NH3  21-10-2021 01:00:00            1.0            3.0   \n",
       "1833          SO2  21-10-2021 01:00:00            6.0           28.0   \n",
       "1834           CO  21-10-2021 01:00:00           34.0           92.0   \n",
       "1835        OZONE  21-10-2021 01:00:00           10.0          116.0   \n",
       "\n",
       "      pollutant_avg  \n",
       "28             11.0  \n",
       "29              5.0  \n",
       "30              2.0  \n",
       "31             88.0  \n",
       "32              7.0  \n",
       "...             ...  \n",
       "1831           15.0  \n",
       "1832            2.0  \n",
       "1833           10.0  \n",
       "1834           41.0  \n",
       "1835           43.0  \n",
       "\n",
       "[121 rows x 10 columns]"
      ]
     },
     "execution_count": 18,
     "metadata": {},
     "output_type": "execute_result"
    }
   ],
   "source": [
    "df1=df[(df['state']=='Jammu_&_Kashmir')|(df['state']=='Nagaland')|(df['state']=='West_Bengal')|(df['state']=='Meghalaya')|(df['state']=='Assam')]\n",
    "df1"
   ]
  },
  {
   "cell_type": "code",
   "execution_count": 20,
   "id": "b3a56fdd",
   "metadata": {},
   "outputs": [
    {
     "data": {
      "text/html": [
       "<div>\n",
       "<style scoped>\n",
       "    .dataframe tbody tr th:only-of-type {\n",
       "        vertical-align: middle;\n",
       "    }\n",
       "\n",
       "    .dataframe tbody tr th {\n",
       "        vertical-align: top;\n",
       "    }\n",
       "\n",
       "    .dataframe thead th {\n",
       "        text-align: right;\n",
       "    }\n",
       "</style>\n",
       "<table border=\"1\" class=\"dataframe\">\n",
       "  <thead>\n",
       "    <tr style=\"text-align: right;\">\n",
       "      <th></th>\n",
       "      <th>id</th>\n",
       "      <th>country</th>\n",
       "      <th>state</th>\n",
       "      <th>city</th>\n",
       "      <th>station</th>\n",
       "      <th>pollutant_id</th>\n",
       "      <th>last_update</th>\n",
       "      <th>pollutant_min</th>\n",
       "      <th>pollutant_max</th>\n",
       "      <th>pollutant_avg</th>\n",
       "    </tr>\n",
       "  </thead>\n",
       "  <tbody>\n",
       "    <tr>\n",
       "      <th>0</th>\n",
       "      <td>1</td>\n",
       "      <td>India</td>\n",
       "      <td>Andhra_Pradesh</td>\n",
       "      <td>Amaravati</td>\n",
       "      <td>Secretariat, Amaravati - APPCB</td>\n",
       "      <td>PM2.5</td>\n",
       "      <td>21-10-2021 01:00:00</td>\n",
       "      <td>69.0</td>\n",
       "      <td>109.0</td>\n",
       "      <td>86.0</td>\n",
       "    </tr>\n",
       "    <tr>\n",
       "      <th>1</th>\n",
       "      <td>2</td>\n",
       "      <td>India</td>\n",
       "      <td>Andhra_Pradesh</td>\n",
       "      <td>Amaravati</td>\n",
       "      <td>Secretariat, Amaravati - APPCB</td>\n",
       "      <td>PM10</td>\n",
       "      <td>21-10-2021 01:00:00</td>\n",
       "      <td>82.0</td>\n",
       "      <td>138.0</td>\n",
       "      <td>105.0</td>\n",
       "    </tr>\n",
       "    <tr>\n",
       "      <th>2</th>\n",
       "      <td>3</td>\n",
       "      <td>India</td>\n",
       "      <td>Andhra_Pradesh</td>\n",
       "      <td>Amaravati</td>\n",
       "      <td>Secretariat, Amaravati - APPCB</td>\n",
       "      <td>NO2</td>\n",
       "      <td>21-10-2021 01:00:00</td>\n",
       "      <td>10.0</td>\n",
       "      <td>42.0</td>\n",
       "      <td>19.0</td>\n",
       "    </tr>\n",
       "    <tr>\n",
       "      <th>3</th>\n",
       "      <td>4</td>\n",
       "      <td>India</td>\n",
       "      <td>Andhra_Pradesh</td>\n",
       "      <td>Amaravati</td>\n",
       "      <td>Secretariat, Amaravati - APPCB</td>\n",
       "      <td>NH3</td>\n",
       "      <td>21-10-2021 01:00:00</td>\n",
       "      <td>4.0</td>\n",
       "      <td>5.0</td>\n",
       "      <td>4.0</td>\n",
       "    </tr>\n",
       "    <tr>\n",
       "      <th>4</th>\n",
       "      <td>5</td>\n",
       "      <td>India</td>\n",
       "      <td>Andhra_Pradesh</td>\n",
       "      <td>Amaravati</td>\n",
       "      <td>Secretariat, Amaravati - APPCB</td>\n",
       "      <td>SO2</td>\n",
       "      <td>21-10-2021 01:00:00</td>\n",
       "      <td>16.0</td>\n",
       "      <td>42.0</td>\n",
       "      <td>27.0</td>\n",
       "    </tr>\n",
       "    <tr>\n",
       "      <th>...</th>\n",
       "      <td>...</td>\n",
       "      <td>...</td>\n",
       "      <td>...</td>\n",
       "      <td>...</td>\n",
       "      <td>...</td>\n",
       "      <td>...</td>\n",
       "      <td>...</td>\n",
       "      <td>...</td>\n",
       "      <td>...</td>\n",
       "      <td>...</td>\n",
       "    </tr>\n",
       "    <tr>\n",
       "      <th>1742</th>\n",
       "      <td>1743</td>\n",
       "      <td>India</td>\n",
       "      <td>Uttar_Pradesh</td>\n",
       "      <td>Vrindavan</td>\n",
       "      <td>Omex Eternity, Vrindavan - UPPCB</td>\n",
       "      <td>NO2</td>\n",
       "      <td>21-10-2021 01:00:00</td>\n",
       "      <td>5.0</td>\n",
       "      <td>22.0</td>\n",
       "      <td>14.0</td>\n",
       "    </tr>\n",
       "    <tr>\n",
       "      <th>1743</th>\n",
       "      <td>1744</td>\n",
       "      <td>India</td>\n",
       "      <td>Uttar_Pradesh</td>\n",
       "      <td>Vrindavan</td>\n",
       "      <td>Omex Eternity, Vrindavan - UPPCB</td>\n",
       "      <td>NH3</td>\n",
       "      <td>21-10-2021 01:00:00</td>\n",
       "      <td>3.0</td>\n",
       "      <td>31.0</td>\n",
       "      <td>23.0</td>\n",
       "    </tr>\n",
       "    <tr>\n",
       "      <th>1744</th>\n",
       "      <td>1745</td>\n",
       "      <td>India</td>\n",
       "      <td>Uttar_Pradesh</td>\n",
       "      <td>Vrindavan</td>\n",
       "      <td>Omex Eternity, Vrindavan - UPPCB</td>\n",
       "      <td>SO2</td>\n",
       "      <td>21-10-2021 01:00:00</td>\n",
       "      <td>8.0</td>\n",
       "      <td>17.0</td>\n",
       "      <td>13.0</td>\n",
       "    </tr>\n",
       "    <tr>\n",
       "      <th>1745</th>\n",
       "      <td>1746</td>\n",
       "      <td>India</td>\n",
       "      <td>Uttar_Pradesh</td>\n",
       "      <td>Vrindavan</td>\n",
       "      <td>Omex Eternity, Vrindavan - UPPCB</td>\n",
       "      <td>CO</td>\n",
       "      <td>21-10-2021 01:00:00</td>\n",
       "      <td>18.0</td>\n",
       "      <td>100.0</td>\n",
       "      <td>39.0</td>\n",
       "    </tr>\n",
       "    <tr>\n",
       "      <th>1746</th>\n",
       "      <td>1747</td>\n",
       "      <td>India</td>\n",
       "      <td>Uttar_Pradesh</td>\n",
       "      <td>Vrindavan</td>\n",
       "      <td>Omex Eternity, Vrindavan - UPPCB</td>\n",
       "      <td>OZONE</td>\n",
       "      <td>21-10-2021 01:00:00</td>\n",
       "      <td>3.0</td>\n",
       "      <td>30.0</td>\n",
       "      <td>21.0</td>\n",
       "    </tr>\n",
       "  </tbody>\n",
       "</table>\n",
       "<p>1715 rows × 10 columns</p>\n",
       "</div>"
      ],
      "text/plain": [
       "        id country           state       city  \\\n",
       "0        1   India  Andhra_Pradesh  Amaravati   \n",
       "1        2   India  Andhra_Pradesh  Amaravati   \n",
       "2        3   India  Andhra_Pradesh  Amaravati   \n",
       "3        4   India  Andhra_Pradesh  Amaravati   \n",
       "4        5   India  Andhra_Pradesh  Amaravati   \n",
       "...    ...     ...             ...        ...   \n",
       "1742  1743   India   Uttar_Pradesh  Vrindavan   \n",
       "1743  1744   India   Uttar_Pradesh  Vrindavan   \n",
       "1744  1745   India   Uttar_Pradesh  Vrindavan   \n",
       "1745  1746   India   Uttar_Pradesh  Vrindavan   \n",
       "1746  1747   India   Uttar_Pradesh  Vrindavan   \n",
       "\n",
       "                               station pollutant_id          last_update  \\\n",
       "0       Secretariat, Amaravati - APPCB        PM2.5  21-10-2021 01:00:00   \n",
       "1       Secretariat, Amaravati - APPCB         PM10  21-10-2021 01:00:00   \n",
       "2       Secretariat, Amaravati - APPCB          NO2  21-10-2021 01:00:00   \n",
       "3       Secretariat, Amaravati - APPCB          NH3  21-10-2021 01:00:00   \n",
       "4       Secretariat, Amaravati - APPCB          SO2  21-10-2021 01:00:00   \n",
       "...                                ...          ...                  ...   \n",
       "1742  Omex Eternity, Vrindavan - UPPCB          NO2  21-10-2021 01:00:00   \n",
       "1743  Omex Eternity, Vrindavan - UPPCB          NH3  21-10-2021 01:00:00   \n",
       "1744  Omex Eternity, Vrindavan - UPPCB          SO2  21-10-2021 01:00:00   \n",
       "1745  Omex Eternity, Vrindavan - UPPCB           CO  21-10-2021 01:00:00   \n",
       "1746  Omex Eternity, Vrindavan - UPPCB        OZONE  21-10-2021 01:00:00   \n",
       "\n",
       "      pollutant_min  pollutant_max  pollutant_avg  \n",
       "0              69.0          109.0           86.0  \n",
       "1              82.0          138.0          105.0  \n",
       "2              10.0           42.0           19.0  \n",
       "3               4.0            5.0            4.0  \n",
       "4              16.0           42.0           27.0  \n",
       "...             ...            ...            ...  \n",
       "1742            5.0           22.0           14.0  \n",
       "1743            3.0           31.0           23.0  \n",
       "1744            8.0           17.0           13.0  \n",
       "1745           18.0          100.0           39.0  \n",
       "1746            3.0           30.0           21.0  \n",
       "\n",
       "[1715 rows x 10 columns]"
      ]
     },
     "execution_count": 20,
     "metadata": {},
     "output_type": "execute_result"
    }
   ],
   "source": [
    "df2=df[(df['state']!='Jammu_&_Kashmir')&(df['state']!='Nagaland')&(df['state']!='West_Bengal')&(df['state']!='Meghalaya')&(df['state']!='Assam')]\n",
    "df2"
   ]
  },
  {
   "cell_type": "code",
   "execution_count": 26,
   "id": "6a70ce5a",
   "metadata": {},
   "outputs": [
    {
     "data": {
      "text/plain": [
       "West_Bengal        89\n",
       "Assam              13\n",
       "Nagaland            7\n",
       "Jammu_&_Kashmir     6\n",
       "Meghalaya           6\n",
       "Name: state, dtype: int64"
      ]
     },
     "execution_count": 26,
     "metadata": {},
     "output_type": "execute_result"
    }
   ],
   "source": [
    "df1['state'].value_counts()"
   ]
  },
  {
   "cell_type": "code",
   "execution_count": 27,
   "id": "66c8a0bf",
   "metadata": {},
   "outputs": [
    {
     "data": {
      "text/plain": [
       "Uttar_Pradesh     289\n",
       "Delhi             251\n",
       "Haryana           200\n",
       "Maharashtra       199\n",
       "Karnataka         186\n",
       "Madhya Pradesh     90\n",
       "Gujarat            82\n",
       "Rajasthan          69\n",
       "Bihar              66\n",
       "Kerala             54\n",
       "TamilNadu          54\n",
       "Punjab             51\n",
       "Telangana          40\n",
       "Andhra_Pradesh     28\n",
       "Chandigarh         14\n",
       "Odisha             13\n",
       "Mizoram             7\n",
       "Puducherry          7\n",
       "Tripura             7\n",
       "Chhattisgarh        5\n",
       "Jharkhand           3\n",
       "Name: state, dtype: int64"
      ]
     },
     "execution_count": 27,
     "metadata": {},
     "output_type": "execute_result"
    }
   ],
   "source": [
    "df2['state'].value_counts()"
   ]
  },
  {
   "cell_type": "markdown",
   "id": "71dfcaf5",
   "metadata": {},
   "source": [
    "#### First we will compare what type of pollutants are available in hilly and plains"
   ]
  },
  {
   "cell_type": "code",
   "execution_count": 28,
   "id": "5e574fdf",
   "metadata": {},
   "outputs": [
    {
     "data": {
      "text/plain": [
       "PM2.5    18\n",
       "NO2      18\n",
       "NH3      18\n",
       "SO2      18\n",
       "PM10     17\n",
       "CO       16\n",
       "OZONE    16\n",
       "Name: pollutant_id, dtype: int64"
      ]
     },
     "execution_count": 28,
     "metadata": {},
     "output_type": "execute_result"
    }
   ],
   "source": [
    "df1['pollutant_id'].value_counts() # Hilly area"
   ]
  },
  {
   "cell_type": "code",
   "execution_count": 29,
   "id": "91ec98b7",
   "metadata": {},
   "outputs": [
    {
     "data": {
      "text/plain": [
       "CO       257\n",
       "PM2.5    254\n",
       "NO2      253\n",
       "PM10     250\n",
       "SO2      242\n",
       "OZONE    242\n",
       "NH3      217\n",
       "Name: pollutant_id, dtype: int64"
      ]
     },
     "execution_count": 29,
     "metadata": {},
     "output_type": "execute_result"
    }
   ],
   "source": [
    "df2['pollutant_id'].value_counts() # Plain area"
   ]
  },
  {
   "cell_type": "code",
   "execution_count": 30,
   "id": "65d3e0c4",
   "metadata": {},
   "outputs": [],
   "source": [
    "labels1=df1['pollutant_id'].value_counts().keys()\n",
    "values1=df1['pollutant_id'].value_counts().values\n",
    "labels2=df2['pollutant_id'].value_counts().keys()\n",
    "values2=df2['pollutant_id'].value_counts().values"
   ]
  },
  {
   "cell_type": "code",
   "execution_count": 33,
   "id": "f6fc7a4b",
   "metadata": {},
   "outputs": [
    {
     "data": {
      "image/png": "[encoded data removed]",
      "text/plain": [
       "<Figure size 432x288 with 1 Axes>"
      ]
     },
     "metadata": {},
     "output_type": "display_data"
    }
   ],
   "source": [
    "plt.pie(values1,labels=labels1,autopct='%.1f%%')\n",
    "plt.title('Hilly Areas')\n",
    "plt.show()"
   ]
  },
  {
   "cell_type": "code",
   "execution_count": 34,
   "id": "23eef13e",
   "metadata": {},
   "outputs": [
    {
     "data": {
      "image/png": "[encoded data removed]",
      "text/plain": [
       "<Figure size 432x288 with 1 Axes>"
      ]
     },
     "metadata": {},
     "output_type": "display_data"
    }
   ],
   "source": [
    "plt.pie(values2,labels=labels2,autopct='%.1f%%')\n",
    "plt.title('Plain Areas')\n",
    "plt.show()"
   ]
  },
  {
   "cell_type": "markdown",
   "id": "7d999fe9",
   "metadata": {},
   "source": [
    "## Observation 1 - Hilly areas are affected mostly by PM2.5 , No2 and NH3 while Plain areas are mostly affected by CO "
   ]
  },
  {
   "cell_type": "code",
   "execution_count": 45,
   "id": "9497409f",
   "metadata": {},
   "outputs": [
    {
     "data": {
      "text/plain": [
       "Text(0.5, 1.0, 'Hilly Areas')"
      ]
     },
     "execution_count": 45,
     "metadata": {},
     "output_type": "execute_result"
    },
    {
     "data": {
      "image/png": "[encoded data removed]",
      "text/plain": [
       "<Figure size 360x360 with 1 Axes>"
      ]
     },
     "metadata": {
      "needs_background": "light"
     },
     "output_type": "display_data"
    }
   ],
   "source": [
    "# Minimum Pollutant\n",
    "sns.displot(df1['pollutant_min'].dropna())\n",
    "plt.title('Hilly Areas')"
   ]
  },
  {
   "cell_type": "code",
   "execution_count": 46,
   "id": "f524fd0a",
   "metadata": {},
   "outputs": [
    {
     "data": {
      "text/plain": [
       "Text(0.5, 1.0, 'Plain Areas')"
      ]
     },
     "execution_count": 46,
     "metadata": {},
     "output_type": "execute_result"
    },
    {
     "data": {
      "image/png": "[encoded data removed]",
      "text/plain": [
       "<Figure size 360x360 with 1 Axes>"
      ]
     },
     "metadata": {
      "needs_background": "light"
     },
     "output_type": "display_data"
    }
   ],
   "source": [
    "sns.displot(df2['pollutant_min'].dropna())\n",
    "plt.title('Plain Areas')"
   ]
  },
  {
   "cell_type": "code",
   "execution_count": 44,
   "id": "be241f12",
   "metadata": {},
   "outputs": [
    {
     "data": {
      "text/plain": [
       "Text(0.5, 1.0, 'Hilly Areas')"
      ]
     },
     "execution_count": 44,
     "metadata": {},
     "output_type": "execute_result"
    },
    {
     "data": {
      "image/png": "[encoded data removed]",
      "text/plain": [
       "<Figure size 360x360 with 1 Axes>"
      ]
     },
     "metadata": {
      "needs_background": "light"
     },
     "output_type": "display_data"
    }
   ],
   "source": [
    "# Maximum Pollutant\n",
    "sns.displot(df1['pollutant_max'].dropna())\n",
    "plt.title('Hilly Areas')"
   ]
  },
  {
   "cell_type": "code",
   "execution_count": 43,
   "id": "179a643f",
   "metadata": {},
   "outputs": [
    {
     "data": {
      "text/plain": [
       "Text(0.5, 1.0, 'Plain Areas')"
      ]
     },
     "execution_count": 43,
     "metadata": {},
     "output_type": "execute_result"
    },
    {
     "data": {
      "image/png": "[encoded data removed]",
      "text/plain": [
       "<Figure size 360x360 with 1 Axes>"
      ]
     },
     "metadata": {
      "needs_background": "light"
     },
     "output_type": "display_data"
    }
   ],
   "source": [
    "sns.displot(df2['pollutant_max'].dropna())\n",
    "plt.title('Plain Areas')"
   ]
  },
  {
   "cell_type": "markdown",
   "id": "daa98772",
   "metadata": {},
   "source": [
    "## Observation 2 - We can see from these plots that In case of Min Pollutant hilly areas go upto 70-80 while in Plain Areas it goes upto 150\n",
    "## Same in case of Max Pollutant Hilly areas have very few values above 200 while in the case of Plain Areas many values are above 300"
   ]
  },
  {
   "cell_type": "code",
   "execution_count": 54,
   "id": "12f611ce",
   "metadata": {},
   "outputs": [
    {
     "name": "stderr",
     "output_type": "stream",
     "text": [
      "C:\\Users\\mohan\\anaconda3\\lib\\site-packages\\seaborn\\_decorators.py:36: FutureWarning: Pass the following variable as a keyword arg: x. From version 0.12, the only valid positional argument will be `data`, and passing other arguments without an explicit keyword will result in an error or misinterpretation.\n",
      "  warnings.warn(\n"
     ]
    },
    {
     "data": {
      "text/plain": [
       "Text(0.5, 1.0, 'Hilly Areas')"
      ]
     },
     "execution_count": 54,
     "metadata": {},
     "output_type": "execute_result"
    },
    {
     "data": {
      "image/png": "[encoded data removed]",
      "text/plain": [
       "<Figure size 432x288 with 1 Axes>"
      ]
     },
     "metadata": {
      "needs_background": "light"
     },
     "output_type": "display_data"
    }
   ],
   "source": [
    "# Average Case\n",
    "df1\n",
    "sns.boxplot(df1['pollutant_avg'].dropna())\n",
    "plt.title('Hilly Areas')"
   ]
  },
  {
   "cell_type": "code",
   "execution_count": 55,
   "id": "3f4a1aa8",
   "metadata": {},
   "outputs": [
    {
     "name": "stderr",
     "output_type": "stream",
     "text": [
      "C:\\Users\\mohan\\anaconda3\\lib\\site-packages\\seaborn\\_decorators.py:36: FutureWarning: Pass the following variable as a keyword arg: x. From version 0.12, the only valid positional argument will be `data`, and passing other arguments without an explicit keyword will result in an error or misinterpretation.\n",
      "  warnings.warn(\n"
     ]
    },
    {
     "data": {
      "text/plain": [
       "Text(0.5, 1.0, 'Plain Areas')"
      ]
     },
     "execution_count": 55,
     "metadata": {},
     "output_type": "execute_result"
    },
    {
     "data": {
      "image/png": "[encoded data removed]",
      "text/plain": [
       "<Figure size 432x288 with 1 Axes>"
      ]
     },
     "metadata": {
      "needs_background": "light"
     },
     "output_type": "display_data"
    }
   ],
   "source": [
    "sns.boxplot(df2['pollutant_avg'].dropna())\n",
    "plt.title('Plain Areas')"
   ]
  },
  {
   "cell_type": "markdown",
   "id": "5019355e",
   "metadata": {},
   "source": [
    "## Observation 3 - We can clearly see that average pollutant of hilly areas are nearly 20 while in the case of Plain Areas it's nearly 40"
   ]
  },
  {
   "cell_type": "markdown",
   "id": "6101688e",
   "metadata": {},
   "source": [
    "# Final Observations - The analysis concludes that Hilly areas are less polluted than plain areas and also plain areas are polluted with harmful gases like CO"
   ]
  },
  {
   "cell_type": "code",
   "execution_count": null,
   "id": "6108c860",
   "metadata": {},
   "outputs": [],
   "source": []
  }
 ],
 "metadata": {
  "kernelspec": {
   "display_name": "Python 3 (ipykernel)",
   "language": "python",
   "name": "python3"
  },
  "language_info": {
   "codemirror_mode": {
    "name": "ipython",
    "version": 3
   },
   "file_extension": ".py",
   "mimetype": "text/x-python",
   "name": "python",
   "nbconvert_exporter": "python",
   "pygments_lexer": "ipython3",
   "version": "3.9.7"
  }
 },
 "nbformat": 4,
 "nbformat_minor": 5
}
